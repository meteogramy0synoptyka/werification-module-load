{
 "cells": [
  {
   "cell_type": "code",
   "execution_count": 6,
   "metadata": {},
   "outputs": [],
   "source": [
    "from iris import *"
   ]
  },
  {
   "cell_type": "code",
   "execution_count": 7,
   "metadata": {},
   "outputs": [],
   "source": [
    "import matplotlib.pyplot as plt"
   ]
  },
  {
   "cell_type": "code",
   "execution_count": 8,
   "metadata": {
    "scrolled": true
   },
   "outputs": [],
   "source": [
    "cubes = load(\"qrparm.orog\")"
   ]
  },
  {
   "cell_type": "code",
   "execution_count": 9,
   "metadata": {},
   "outputs": [
    {
     "name": "stdout",
     "output_type": "stream",
     "text": [
      "0: m01s00i034 / (unknown)              (grid_latitude: 616; grid_longitude: 448)\n",
      "1: m01s00i005 / (unknown)              (grid_latitude: 616; grid_longitude: 448)\n",
      "2: m01s00i006 / (unknown)              (grid_latitude: 616; grid_longitude: 448)\n",
      "3: m01s00i035 / (unknown)              (grid_latitude: 616; grid_longitude: 448)\n",
      "4: m01s00i036 / (unknown)              (grid_latitude: 616; grid_longitude: 448)\n",
      "5: m01s00i037 / (unknown)              (grid_latitude: 616; grid_longitude: 448)\n",
      "6: m01s00i017 / (unknown)              (grid_latitude: 616; grid_longitude: 448)\n",
      "7: m01s00i018 / (unknown)              (grid_latitude: 616; grid_longitude: 448)\n",
      "8: m01s00i007 / (unknown)              (grid_latitude: 616; grid_longitude: 448)\n",
      "9: surface_altitude / (m)              (grid_latitude: 616; grid_longitude: 448)\n"
     ]
    }
   ],
   "source": [
    "print(cubes)"
   ]
  },
  {
   "cell_type": "code",
   "execution_count": 10,
   "metadata": {},
   "outputs": [
    {
     "data": {
      "text/plain": [
       "['_DEFAULT_NAME',\n",
       " '__add__',\n",
       " '__class__',\n",
       " '__copy__',\n",
       " '__deepcopy__',\n",
       " '__delattr__',\n",
       " '__dict__',\n",
       " '__dir__',\n",
       " '__div__',\n",
       " '__doc__',\n",
       " '__eq__',\n",
       " '__format__',\n",
       " '__ge__',\n",
       " '__getattribute__',\n",
       " '__getitem__',\n",
       " '__gt__',\n",
       " '__hash__',\n",
       " '__iadd__',\n",
       " '__idiv__',\n",
       " '__imul__',\n",
       " '__init__',\n",
       " '__init_subclass__',\n",
       " '__isub__',\n",
       " '__iter__',\n",
       " '__itruediv__',\n",
       " '__le__',\n",
       " '__lt__',\n",
       " '__module__',\n",
       " '__mul__',\n",
       " '__ne__',\n",
       " '__new__',\n",
       " '__orthogonal_indexing__',\n",
       " '__pow__',\n",
       " '__radd__',\n",
       " '__reduce__',\n",
       " '__reduce_ex__',\n",
       " '__repr__',\n",
       " '__rmul__',\n",
       " '__setattr__',\n",
       " '__sizeof__',\n",
       " '__str__',\n",
       " '__sub__',\n",
       " '__subclasshook__',\n",
       " '__truediv__',\n",
       " '__unicode__',\n",
       " '__weakref__',\n",
       " '_add_unique_aux_coord',\n",
       " '_add_unique_dim_coord',\n",
       " '_as_list_of_coords',\n",
       " '_attributes',\n",
       " '_aux_coords_and_dims',\n",
       " '_aux_factories',\n",
       " '_cell_measures_and_dims',\n",
       " '_cell_methods',\n",
       " '_check_multi_dim_metadata',\n",
       " '_data_manager',\n",
       " '_deepcopy',\n",
       " '_dim_coords_and_dims',\n",
       " '_intersect',\n",
       " '_intersect_derive_subset',\n",
       " '_intersect_modulus',\n",
       " '_remove_coord',\n",
       " '_repr_html_',\n",
       " '_standard_name',\n",
       " '_summary_coord_extra',\n",
       " '_summary_extra',\n",
       " '_units',\n",
       " '_var_name',\n",
       " '_xml_element',\n",
       " 'add_aux_coord',\n",
       " 'add_aux_factory',\n",
       " 'add_cell_measure',\n",
       " 'add_cell_method',\n",
       " 'add_dim_coord',\n",
       " 'aggregated_by',\n",
       " 'attributes',\n",
       " 'aux_coords',\n",
       " 'aux_factories',\n",
       " 'aux_factory',\n",
       " 'cell_measure',\n",
       " 'cell_measure_dims',\n",
       " 'cell_measures',\n",
       " 'cell_methods',\n",
       " 'collapsed',\n",
       " 'convert_units',\n",
       " 'coord',\n",
       " 'coord_dims',\n",
       " 'coord_system',\n",
       " 'coords',\n",
       " 'copy',\n",
       " 'core_data',\n",
       " 'data',\n",
       " 'derived_coords',\n",
       " 'dim_coords',\n",
       " 'dtype',\n",
       " 'extract',\n",
       " 'has_lazy_data',\n",
       " 'interpolate',\n",
       " 'intersection',\n",
       " 'is_compatible',\n",
       " 'lazy_data',\n",
       " 'long_name',\n",
       " 'metadata',\n",
       " 'name',\n",
       " 'names',\n",
       " 'ndim',\n",
       " 'regrid',\n",
       " 'remove_aux_factory',\n",
       " 'remove_cell_measure',\n",
       " 'remove_coord',\n",
       " 'rename',\n",
       " 'replace_coord',\n",
       " 'rolling_window',\n",
       " 'shape',\n",
       " 'slices',\n",
       " 'slices_over',\n",
       " 'standard_name',\n",
       " 'subset',\n",
       " 'summary',\n",
       " 'token',\n",
       " 'transpose',\n",
       " 'units',\n",
       " 'var_name',\n",
       " 'xml']"
      ]
     },
     "execution_count": 10,
     "metadata": {},
     "output_type": "execute_result"
    }
   ],
   "source": [
    "dir(cubes[0])"
   ]
  },
  {
   "cell_type": "code",
   "execution_count": 11,
   "metadata": {},
   "outputs": [
    {
     "data": {
      "text/plain": [
       "<bound method Cube.intersection of <iris 'Cube' of m01s00i005 / (unknown) (grid_latitude: 616; grid_longitude: 448)>>"
      ]
     },
     "execution_count": 11,
     "metadata": {},
     "output_type": "execute_result"
    }
   ],
   "source": [
    "cubes[1].intersection"
   ]
  },
  {
   "cell_type": "code",
   "execution_count": 12,
   "metadata": {},
   "outputs": [
    {
     "data": {
      "text/plain": [
       "<matplotlib.image.AxesImage at 0x7f11bc184190>"
      ]
     },
     "execution_count": 12,
     "metadata": {},
     "output_type": "execute_result"
    },
    {
     "data": {
      "image/png": "[encoded data removed]",
      "text/plain": [
       "<Figure size 432x288 with 1 Axes>"
      ]
     },
     "metadata": {
      "needs_background": "light"
     },
     "output_type": "display_data"
    }
   ],
   "source": [
    "plt.imshow(cubes[9].data)"
   ]
  },
  {
   "cell_type": "code",
   "execution_count": 59,
   "metadata": {},
   "outputs": [
    {
     "data": {
      "text/plain": [
       "-8879487.0"
      ]
     },
     "execution_count": 59,
     "metadata": {},
     "output_type": "execute_result"
    }
   ],
   "source": [
    "np.sum(cubes[6].data - cubes[7].data)"
   ]
  },
  {
   "cell_type": "code",
   "execution_count": 56,
   "metadata": {},
   "outputs": [],
   "source": [
    "\n"
   ]
  },
  {
   "cell_type": "code",
   "execution_count": null,
   "metadata": {},
   "outputs": [],
   "source": []
  }
 ],
 "metadata": {
  "kernelspec": {
   "display_name": "Python 3",
   "language": "python",
   "name": "python3"
  },
  "language_info": {
   "codemirror_mode": {
    "name": "ipython",
    "version": 3
   },
   "file_extension": ".py",
   "mimetype": "text/x-python",
   "name": "python",
   "nbconvert_exporter": "python",
   "pygments_lexer": "ipython3",
   "version": "3.7.4"
  }
 },
 "nbformat": 4,
 "nbformat_minor": 2
}
